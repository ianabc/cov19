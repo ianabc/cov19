{
 "cells": [
  {
   "cell_type": "code",
   "execution_count": null,
   "metadata": {},
   "outputs": [],
   "source": [
    "import rpy2.robjects as ro\n",
    "from rpy2.robjects.packages import importr\n",
    "from rpy2.robjects import pandas2ri\n",
    "\n",
    "from rpy2.robjects.conversion import localconverter\n",
    "\n",
    "import matplotlib as mpl\n",
    "import matplotlib.pyplot as plt\n",
    "import seaborn as sns; sns.set_style('dark')\n",
    "import numpy as np\n",
    "import math\n",
    "import pandas as pd\n",
    "\n",
    "%matplotlib inline\n",
    "plt.rcParams['figure.figsize'] = (16,10)"
   ]
  },
  {
   "cell_type": "markdown",
   "metadata": {},
   "source": [
    "# Canada Case and Death Data by Age group and Gender\n",
    "\n",
    "The figures below show data from [StatsCan's Detailed Confirmed Cases](https://www150.statcan.gc.ca/t1/tbl1/en/tv.action?pid=1310076601) dataset via Jens von Bergmann's [CanCovidData R Package](https://github.com/mountainMath/CanCovidData). The total numbers of cases are much less (currently about 50%) of the more widely reported numbers, but they include much more detail including age and gender information.\n",
    "\n",
    "First, use rpy2 to call the [CanCovidData/get_cansim_case_data](https://github.com/mountainMath/CanCovidData/blob/master/R/canada_covid_data_import.R#L303) as a pandas DataFrame."
   ]
  },
  {
   "cell_type": "code",
   "execution_count": null,
   "metadata": {},
   "outputs": [],
   "source": [
    "CanCovidData = importr(\"CanCovidData\")\n",
    "cansim_cases_r = CanCovidData.get_cansim_case_data();\n",
    "\n",
    "with localconverter(ro.default_converter + pandas2ri.converter):\n",
    "    CanSimDF = ro.conversion.rpy2py(cansim_cases_r)"
   ]
  },
  {
   "cell_type": "markdown",
   "metadata": {},
   "source": [
    "### Cases by Age and Gender\n",
    "\n",
    "Group by gender, then do value counts for each of the age group categories."
   ]
  },
  {
   "cell_type": "code",
   "execution_count": null,
   "metadata": {},
   "outputs": [],
   "source": [
    "caseDF = (CanSimDF.groupby('Gender', observed=True)['Age group'] \n",
    "          .value_counts()\n",
    "          .unstack()\n",
    ")\n",
    "\n",
    "caseDF.index = caseDF.index.astype(str).sort_values()\n",
    "\n",
    "ax = caseDF.plot(kind='bar', alpha=0.8)\n",
    "ax.set_title('Stats Canada Reported Cases by Gender and Age Group')"
   ]
  },
  {
   "cell_type": "markdown",
   "metadata": {},
   "source": [
    "### Death by Age and Gender\n",
    "\n",
    "As above, but for those cases which in which the patient has died."
   ]
  },
  {
   "cell_type": "code",
   "execution_count": null,
   "metadata": {},
   "outputs": [],
   "source": [
    "deathDF = (CanSimDF[CanSimDF['Death'] == 'Yes'].groupby('Gender', observed=True)['Age group'] \n",
    "          .value_counts()\n",
    "          .unstack()\n",
    ")\n",
    "\n",
    "deathDF.index = deathDF.index.astype(str).sort_values()\n",
    "\n",
    "ax = deathDF.plot(kind='bar', alpha=0.8)\n",
    "ax.set_title('Stats Canada Reported Deaths by Gender and Age Group')"
   ]
  },
  {
   "cell_type": "markdown",
   "metadata": {},
   "source": [
    "## Population effects?\n",
    "\n",
    "Women tend to live longer than men on average so what if we try to account for the gender distribution? Do we still see an excess of female cases?"
   ]
  },
  {
   "cell_type": "code",
   "execution_count": null,
   "metadata": {},
   "outputs": [],
   "source": [
    "from io import BytesIO\n",
    "from zipfile import ZipFile\n",
    "from urllib.request import urlopen"
   ]
  },
  {
   "cell_type": "code",
   "execution_count": null,
   "metadata": {},
   "outputs": [],
   "source": [
    "# You should check if this name or location is stable or if it\n",
    "# changes with new data releases\n",
    "resp = urlopen(\"https://www150.statcan.gc.ca/n1/en/tbl/csv/17100005-eng.zip\")\n",
    "zipfile = ZipFile(BytesIO(resp.read()))\n",
    "\n",
    "popDF = pd.read_csv(zipfile.open(zipfile.filelist[0]))\n"
   ]
  },
  {
   "cell_type": "code",
   "execution_count": null,
   "metadata": {},
   "outputs": [],
   "source": [
    "year2019  = popDF['REF_DATE'] == 2019\n",
    "countryCA = popDF['GEO'] == 'Canada'\n",
    "\n",
    "popDF = popDF[year2019 & countryCA]"
   ]
  },
  {
   "cell_type": "code",
   "execution_count": null,
   "metadata": {},
   "outputs": [],
   "source": [
    "# Recode into the groups used in the COVID19 data, 10 year bins\n",
    "popGroups = {}\n",
    "\n",
    "# Group together 0-4, 5-9, 10-14, 14-20\n",
    "young_groups =  [f\"{age_group} to {age_group + 4} years\" for age_group in range(0, 20, 5)]\n",
    "young_groups_c = [popDF['Age group'] == young_group for young_group in young_groups]\n",
    "popGroups['0 to 19 years'] = pd.concat([popDF[group] for group in young_groups_c]).groupby('Sex').sum()\n",
    "\n",
    "for age_group in range(20, 79, 10):\n",
    "    low_age = f\"{age_group} to {age_group + 4} years\"\n",
    "    hi_age  = f\"{age_group + 5} to {age_group + 9} years\"\n",
    "    low = popDF['Age group'] == low_age\n",
    "    hi  = popDF['Age group'] == hi_age\n",
    "    popGroups[f\"{age_group} to {age_group + 9} years\"] = popDF[low | hi].groupby('Sex').sum()\n",
    "    \n",
    "\n",
    "# Group together 80-84, 85-89, 90-94, 94-99, 100+    \n",
    "old_groups =  [f\"{age_group} to {age_group + 4} years\" \n",
    "               for age_group in range(80, 99, 5)] + [\"100 years and over\"]\n",
    "\n",
    "old_groups_c = [popDF['Age group'] == old_group for old_group in old_groups]\n",
    "popGroups['80 years or older'] = pd.concat([popDF[group] for group in old_groups_c]).groupby('Sex').sum()"
   ]
  },
  {
   "cell_type": "code",
   "execution_count": null,
   "metadata": {},
   "outputs": [],
   "source": [
    "popDF2 = pd.concat(popGroups)['VALUE'].unstack().transpose().drop('Both sexes')\n",
    "popDF2T = popDF2.transpose()\n",
    "\n",
    "\n",
    "sns.set_style(\"dark\")\n",
    "fig, ax = plt.subplots()\n",
    "bar_width=0.4\n",
    "\n",
    "popDF2T = popDF2.transpose()\n",
    "xtics = np.arange(len(popDF2T.index))\n",
    "ax.bar(xtics, popDF2.loc['Females'], width=bar_width, alpha=0.4, color='red')\n",
    "ax.bar(xtics + bar_width, popDF2.loc['Males'], width=bar_width, alpha=0.4, color='blue')\n",
    "\n",
    "\n",
    "ax2 = ax.twinx()\n",
    "ax2.plot(xtics + bar_width / 2, popDF2.loc['Males'] / popDF2.loc['Females'], marker='+', markersize=15)\n",
    "\n",
    "\n",
    "ax.set_xticks(xtics + bar_width / 2)\n",
    "ax.set_xticklabels(popDF2T.index)\n",
    "\n",
    "ax2.set_ylabel('Male/Female ratio')\n",
    "ax2.set_ylim([-1.5,1.5])\n",
    "ax2.legend([\"Population ratio (RHS scale)\"])\n",
    "\n",
    "ylabels = [f\"{x/1e6:,.1f} M\" for x in ax.get_yticks()]\n",
    "ax.set_yticklabels(ylabels)\n",
    "ax.set_ylabel('Population segment size')"
   ]
  },
  {
   "cell_type": "code",
   "execution_count": null,
   "metadata": {},
   "outputs": [],
   "source": [
    "normCaseDF = caseDF.drop('Not stated', axis=1).drop(['Non-binary', 'Not stated'])\n",
    "normCaseDF"
   ]
  },
  {
   "cell_type": "code",
   "execution_count": null,
   "metadata": {},
   "outputs": [],
   "source": [
    "normCaseDF.loc['Female rate'] = normCaseDF.loc['Female'] / popDF2.loc['Females']\n",
    "normCaseDF.loc['Male rate']   = normCaseDF.loc['Male'] / popDF2.loc['Males']\n",
    "normCaseDF"
   ]
  },
  {
   "cell_type": "code",
   "execution_count": null,
   "metadata": {},
   "outputs": [],
   "source": [
    "ax = normCaseDF.drop(['Female', 'Male'], axis=0).plot(kind='bar', alpha=0.8)\n",
    "ax.set_title('Stats Canada Reported Cases by Gender and Age Group, normalized by pop segment size')\n",
    "ax.set_ylabel('Fraction of population segment')"
   ]
  },
  {
   "cell_type": "code",
   "execution_count": null,
   "metadata": {},
   "outputs": [],
   "source": [
    "normDeathDF = deathDF.drop('Not stated', axis=1).drop('Not stated')\n",
    "normDeathDF"
   ]
  },
  {
   "cell_type": "code",
   "execution_count": null,
   "metadata": {},
   "outputs": [],
   "source": [
    "normDeathDF.loc['Female rate'] = normDeathDF.loc['Female'] / popDF2.loc['Females']\n",
    "normDeathDF.loc['Male rate']   = normDeathDF.loc['Male'] / popDF2.loc['Males']\n",
    "normDeathDF"
   ]
  },
  {
   "cell_type": "code",
   "execution_count": null,
   "metadata": {},
   "outputs": [],
   "source": [
    "ax = normDeathDF.drop(['Female', 'Male'], axis=0).plot(kind='bar', alpha=0.8)\n",
    "ax.set_title('Stats Canada Reported Deaths by Gender and Age Group, normalized by pop segment size')\n",
    "ax.set_ylabel('Fraction of population segment')"
   ]
  },
  {
   "cell_type": "markdown",
   "metadata": {},
   "source": [
    "So after adjusting for the population segment size the mortality rate for women makes a large jump in the 80 and over category."
   ]
  }
 ],
 "metadata": {
  "kernelspec": {
   "display_name": "Python 3",
   "language": "python",
   "name": "python3"
  },
  "language_info": {
   "codemirror_mode": {
    "name": "ipython",
    "version": 3
   },
   "file_extension": ".py",
   "mimetype": "text/x-python",
   "name": "python",
   "nbconvert_exporter": "python",
   "pygments_lexer": "ipython3",
   "version": "3.7.6"
  }
 },
 "nbformat": 4,
 "nbformat_minor": 4
}
